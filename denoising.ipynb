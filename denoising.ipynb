{
 "metadata": {
  "name": "",
  "signature": "sha256:b3b560ca90a6e37ddfe32fc4f8f7222ac60d710fd43466c5d46e2bd39c784c92"
 },
 "nbformat": 3,
 "nbformat_minor": 0,
 "worksheets": [
  {
   "cells": [
    {
     "cell_type": "raw",
     "metadata": {},
     "source": [
      "Implements denoising. First load dictionary"
     ]
    },
    {
     "cell_type": "code",
     "collapsed": false,
     "input": [
      "import numpy as np\n",
      "import preprocess\n",
      "import laplacian_pyramid\n",
      "import fista\n",
      "import scales\n",
      "import sklearn.preprocessing as skp\n",
      "import scipy.sparse as sps"
     ],
     "language": "python",
     "metadata": {},
     "outputs": [],
     "prompt_number": 1
    },
    {
     "cell_type": "code",
     "collapsed": false,
     "input": [
      "Phi = np.load('./dictionaries/server-l025-b2-oc-1-i72-p9-t1500-2014-04-21')\n",
      "\n",
      "image_side = 64\n",
      "patch_side = 9\n",
      "pad = (patch_side-1)/2\n",
      "scalesv = len(Phi)\n",
      "batch = 100"
     ],
     "language": "python",
     "metadata": {},
     "outputs": [],
     "prompt_number": 2
    },
    {
     "cell_type": "code",
     "collapsed": false,
     "input": [
      "# G = laplacian_pyramid.generative(image_side, patch_side, scalesv, base_mask_radius=2)\n",
      "G = np.load('./dictionaries/g64-p9-s3-b2.npy')"
     ],
     "language": "python",
     "metadata": {},
     "outputs": [],
     "prompt_number": 3
    },
    {
     "cell_type": "code",
     "collapsed": false,
     "input": [
      "I = preprocess.extract_images(num_images=batch, image_dim=image_side**2, rescale=True, center=True, \n",
      "                          lowpass=True, pad=pad)"
     ],
     "language": "python",
     "metadata": {},
     "outputs": []
    },
    {
     "cell_type": "code",
     "collapsed": false,
     "input": [
      "\"\"\" Functions to process images \"\"\"\n",
      "\n",
      "def postprocess(image, image_side, pad):\n",
      "    \"\"\" Cut borders and rescale to [0-255] \"\"\"\n",
      "    image = image.reshape(image_side+2*pad,image_side+2*pad)\n",
      "    image = image[pad:image_side+pad, pad:image_side+pad]\n",
      "    image = image-np.min(image)\n",
      "    image = 255 * (image/float(np.max(image)))\n",
      "    image = image.astype(np.uint8)\n",
      "    image = image.reshape(image_side**2)\n",
      "    return image\n",
      "\n",
      "def reprocess(image, image_side, pad):\n",
      "    \"\"\" Mean subtract, rescale image to l2 unit norm and pad \"\"\"\n",
      "    image = image-np.mean(image)\n",
      "    image = image/np.sqrt(float(np.sum(image**2)))\n",
      "    image = np.pad(image.reshape(image_side, image_side), ((pad, pad), (pad, pad)), mode='constant')\n",
      "    image = image.reshape((image_side+2*pad)**2)\n",
      "    \n",
      "    return image\n",
      "    "
     ],
     "language": "python",
     "metadata": {},
     "outputs": []
    },
    {
     "cell_type": "code",
     "collapsed": false,
     "input": [
      "num_images = 4\n",
      "width, height = figaspect(0.2)\n",
      "fig, ax = subplots(1, num_images, figsize=(width,height))\n",
      "\n",
      "images_index = [3, 24, 23, 11]\n",
      "images = np.zeros((num_images, (image_side+2*pad)**2))\n",
      "pp_images = np.zeros((num_images, image_side**2))\n",
      "for s in range(num_images):\n",
      "    images[s] = I[images_index[s]]\n",
      "    pp_images[s] = postprocess(images[s], image_side, pad)\n",
      "    ax[s].imshow(pp_images[s].reshape(image_side,image_side), cmap=pylab.gray(), interpolation='nearest')\n",
      "    #ax[s].colorbar()\n",
      "    ax[s].axis(\"off\")\n",
      "    \n",
      "var = np.var(images)\n",
      "print \"Pixel Variance: \" + str(var)"
     ],
     "language": "python",
     "metadata": {},
     "outputs": []
    },
    {
     "cell_type": "code",
     "collapsed": false,
     "input": [
      "# denoising\n",
      "\n",
      "var_noise = 100**2\n",
      "print \"Noise Variance: \" + str(var_noise)\n",
      "print \"Noise multiplier: \" + str(np.sqrt(var_noise))\n",
      "\n",
      "# occlusion\n",
      "w, h = 8, 8\n",
      "\n",
      "# Occlusion mask\n",
      "R = np.ones((image_side+2*pad, image_side+2*pad))\n",
      "#R[int((image_side+2*pad-w)/2):int((image_side+2*pad+w)/2), int((image_side+2*pad-h)/2):int((image_side+2*pad+h)/2)] = 0\n",
      "#R[int((30-w)/2):int((30+w)/2), int((45-h)/2):int((45+h)/2)] = 0\n",
      "#R[int((115-w)/2):int((115+w)/2), int((115-h)/2):int((115+h)/2)] = 0\n",
      "#R[int((30-w)/2):int((30+w)/2), int((100-h)/2):int((100+h)/2)] = 0\n",
      "#R[int((115-w)/2):int((115+w)/2), int((30-h)/2):int((30+h)/2)] = 0\n",
      "plt.imshow(R)\n",
      "R = R.reshape((image_side+2*pad)**2)\n",
      "\n",
      "\n",
      "width, height = figaspect(0.2)\n",
      "fig, ax = subplots(1, num_images, figsize=(width,height))\n",
      "\n",
      "width, height = figaspect(0.2)\n",
      "fig2, ax2 = subplots(1, num_images, figsize=(width,height))\n",
      "\n",
      "images_noisy = np.zeros((num_images, (image_side)**2))\n",
      "rp_images_noisy = np.zeros((num_images, (image_side+2*pad)**2))\n",
      "\n",
      "images_occluded = np.zeros((num_images, (image_side+2*pad)**2))\n",
      "\n",
      "for s in range(num_images):\n",
      "    noise = np.sqrt(var_noise)*(np.random.randn((image_side)**2))\n",
      "    #noise = noise - np.min(noise)\n",
      "    #noise = 255*(noise/np.max(noise)) \n",
      "    #noise = noise.astype(np.uint8)\n",
      "    # print noise\n",
      "    images_noisy[s] = pp_images[s] + noise\n",
      "    rp_images_noisy[s] = reprocess(images_noisy[s], image_side, pad)\n",
      "    ax[s].imshow(rp_images_noisy[s].reshape(image_side+2*pad,image_side+2*pad), cmap=cm.Greys_r, interpolation='nearest')\n",
      "    #print np.max(images[s])\n",
      "    #print np.max(rp_images_noisy[s])\n",
      "    ax[s].axis(\"off\")\n",
      "\n",
      "    images_occluded[s] = images[s] * R \n",
      "    ax2[s].imshow(images_occluded[s].reshape(image_side+2*pad,image_side+2*pad), cmap=cm.Greys_r, interpolation='nearest')\n",
      "    ax2[s].axis(\"off\")"
     ],
     "language": "python",
     "metadata": {},
     "outputs": []
    },
    {
     "cell_type": "code",
     "collapsed": false,
     "input": [
      "lambdav = 0.05\n",
      "A = scales.inference(rp_images_noisy.T, G, Phi, (image_side)**2, lambdav, algorithm='fista', max_iterations=50)\n",
      "recon = scales.reconstruct(G, Phi, A).T"
     ],
     "language": "python",
     "metadata": {},
     "outputs": [],
     "prompt_number": 64
    },
    {
     "cell_type": "code",
     "collapsed": false,
     "input": [
      "lambav = 0.0000001\n",
      "A2 = scales.inference(images_occluded.T, G, Phi, (image_side)**2, lambdav, algorithm='fista', max_iterations=600, mask=R)\n",
      "recon2 = scales.reconstruct(G, Phi, A2).T"
     ],
     "language": "python",
     "metadata": {},
     "outputs": [],
     "prompt_number": 82
    },
    {
     "cell_type": "code",
     "collapsed": true,
     "input": [
      "width, height = figaspect(0.2)\n",
      "fig, ax = subplots(1, num_images, figsize=(width,height))\n",
      "\n",
      "width, height = figaspect(0.2)\n",
      "fig2, ax2 = subplots(1, num_images, figsize=(width,height))\n",
      "\n",
      "pp_recon = np.zeros((num_images, image_side**2))\n",
      "pp_recon2 = np.zeros((num_images, image_side**2))\n",
      "for s in range(num_images):\n",
      "    pp_recon[s] = postprocess(recon[s], image_side, pad)\n",
      "    ax[s].imshow(pp_recon[s].reshape(image_side,image_side), cmap=cm.Greys_r, interpolation='nearest')\n",
      "    ax[s].axis(\"off\")\n",
      "    \n",
      "    pp_recon2[s] = postprocess(recon2[s], image_side, pad)\n",
      "    ax2[s].imshow(pp_recon2[s].reshape(image_side,image_side), cmap=cm.Greys_r, interpolation='nearest')\n",
      "    ax[s].axis(\"off\")"
     ],
     "language": "python",
     "metadata": {},
     "outputs": [],
     "prompt_number": 83
    },
    {
     "cell_type": "code",
     "collapsed": false,
     "input": [
      "mse_noisy = np.sum((images_noisy-pp_images)**2) * (1/float(num_images*(image_side)**2))\n",
      "mse_recon = np.sum((pp_recon-pp_images)**2) * (1/float(num_images*(image_side)**2))\n",
      "var = np.sum(pp_images**2) * (1/float(num_images*(image_side)**2))\n",
      "\n",
      "print \"MSE Corrupted Image: \" + str(mse_noisy)\n",
      "print \"MSE Reconstruction: \" + str(mse_recon)\n",
      "print \"Pixel Variance: \" + str(var)\n",
      "print \"Pixel Max Value: \" + str(np.max(pp_images))\n",
      "\n",
      "print \"Average SNR Noisy: \" + str(10*log10(var/mse_noisy)) + \" dB\"\n",
      "print \"Average SNR Reconstruction: \" + str(10*log10(var/mse_recon)) + \" dB\"\n",
      "print \"Average PSNR Corrupted Image: \" + str(10*log10(255.0**2/mse_noisy)) + \" dB\" \n",
      "print \"Average PSNR Reconstruction: \" + str(10*log10(255.0**2/mse_recon)) + \" dB\" "
     ],
     "language": "python",
     "metadata": {},
     "outputs": [
      {
       "output_type": "stream",
       "stream": "stdout",
       "text": [
        "MSE Corrupted Image: 10132.9960557\n",
        "MSE Reconstruction: 7800.00854492\n",
        "Pixel Variance: 19468.6169434\n",
        "Pixel Max Value: 255.0\n",
        "Average SNR Noisy: 2.835972266 dB\n",
        "Average SNR Reconstruction: 3.97240021739 dB\n",
        "Average PSNR Corrupted Image: 8.07342487268 dB\n",
        "Average PSNR Reconstruction: 9.20985282407 dB\n"
       ]
      }
     ],
     "prompt_number": 63
    },
    {
     "cell_type": "code",
     "collapsed": false,
     "input": [
      "width, height = figaspect(0.2)\n",
      "fig = figure(figsize=(width,height))\n",
      "\n",
      "lambda_array = [0.2, 0.1, 0.05, 0.025, 0.01]\n",
      "\n",
      "for l in lambda_array:\n",
      "    Phi = np.load('./dictionaries/server-l' + str(l).split('.', 1)[1] + '-b2-oc-1-i72-p9-t1500-2014-04-21')\n",
      "    I = \n",
      "    \n",
      "mse_array = []"
     ],
     "language": "python",
     "metadata": {},
     "outputs": [
      {
       "metadata": {},
       "output_type": "display_data",
       "png": "[encoded data removed]",
       "text": [
        "<matplotlib.figure.Figure at 0x10d446b50>"
       ]
      }
     ],
     "prompt_number": 313
    },
    {
     "cell_type": "code",
     "collapsed": false,
     "input": [
      "G[1].todia()"
     ],
     "language": "python",
     "metadata": {},
     "outputs": [
      {
       "metadata": {},
       "output_type": "pyout",
       "prompt_number": 314,
       "text": [
        "<5184x1600 sparse matrix of type '<type 'numpy.float64'>'\n",
        "\twith 5024000 stored elements (3140 diagonals) in DIAgonal format>"
       ]
      }
     ],
     "prompt_number": 314
    },
    {
     "cell_type": "code",
     "collapsed": false,
     "input": [
      " M = sps.hstack([G[s].dot(Phi[s]) for s in range(scalesv)]).tocsr()\n"
     ],
     "language": "python",
     "metadata": {},
     "outputs": [],
     "prompt_number": 4
    },
    {
     "cell_type": "code",
     "collapsed": false,
     "input": [
      "import scipy.sparse as sps\n",
      "import scipy.sparse.linalg"
     ],
     "language": "python",
     "metadata": {},
     "outputs": [],
     "prompt_number": 5
    },
    {
     "cell_type": "code",
     "collapsed": false,
     "input": [
      "print scipy.sparse.linalg.svds(M, 1, which='LM', return_singular_vectors=False)"
     ],
     "language": "python",
     "metadata": {},
     "outputs": [
      {
       "output_type": "stream",
       "stream": "stdout",
       "text": [
        "[ 7.11750013]\n"
       ]
      }
     ],
     "prompt_number": 6
    },
    {
     "cell_type": "code",
     "collapsed": false,
     "input": [
      "Phi2 = np.load('./dictionaries/server-oc-1-i72-p9-t3550-2014-02-27')"
     ],
     "language": "python",
     "metadata": {},
     "outputs": [
      {
       "ename": "IOError",
       "evalue": "[Errno 2] No such file or directory: './dictionaries/server-oc-1-i72-p9-t3550-2014-02-27'",
       "output_type": "pyerr",
       "traceback": [
        "\u001b[1;31m---------------------------------------------------------------------------\u001b[0m\n\u001b[1;31mIOError\u001b[0m                                   Traceback (most recent call last)",
        "\u001b[1;32m<ipython-input-7-6db7c270bf3c>\u001b[0m in \u001b[0;36m<module>\u001b[1;34m()\u001b[0m\n\u001b[1;32m----> 1\u001b[1;33m \u001b[0mPhi2\u001b[0m \u001b[1;33m=\u001b[0m \u001b[0mnp\u001b[0m\u001b[1;33m.\u001b[0m\u001b[0mload\u001b[0m\u001b[1;33m(\u001b[0m\u001b[1;34m'./dictionaries/server-oc-1-i72-p9-t3550-2014-02-27'\u001b[0m\u001b[1;33m)\u001b[0m\u001b[1;33m\u001b[0m\u001b[0m\n\u001b[0m",
        "\u001b[1;32m/opt/anaconda/lib/python2.7/site-packages/numpy/lib/npyio.pyc\u001b[0m in \u001b[0;36mload\u001b[1;34m(file, mmap_mode)\u001b[0m\n\u001b[0;32m    368\u001b[0m     \u001b[0mown_fid\u001b[0m \u001b[1;33m=\u001b[0m \u001b[0mFalse\u001b[0m\u001b[1;33m\u001b[0m\u001b[0m\n\u001b[0;32m    369\u001b[0m     \u001b[1;32mif\u001b[0m \u001b[0misinstance\u001b[0m\u001b[1;33m(\u001b[0m\u001b[0mfile\u001b[0m\u001b[1;33m,\u001b[0m \u001b[0mbasestring\u001b[0m\u001b[1;33m)\u001b[0m\u001b[1;33m:\u001b[0m\u001b[1;33m\u001b[0m\u001b[0m\n\u001b[1;32m--> 370\u001b[1;33m         \u001b[0mfid\u001b[0m \u001b[1;33m=\u001b[0m \u001b[0mopen\u001b[0m\u001b[1;33m(\u001b[0m\u001b[0mfile\u001b[0m\u001b[1;33m,\u001b[0m \u001b[1;34m\"rb\"\u001b[0m\u001b[1;33m)\u001b[0m\u001b[1;33m\u001b[0m\u001b[0m\n\u001b[0m\u001b[0;32m    371\u001b[0m         \u001b[0mown_fid\u001b[0m \u001b[1;33m=\u001b[0m \u001b[0mTrue\u001b[0m\u001b[1;33m\u001b[0m\u001b[0m\n\u001b[0;32m    372\u001b[0m     \u001b[1;32melif\u001b[0m \u001b[0misinstance\u001b[0m\u001b[1;33m(\u001b[0m\u001b[0mfile\u001b[0m\u001b[1;33m,\u001b[0m \u001b[0mgzip\u001b[0m\u001b[1;33m.\u001b[0m\u001b[0mGzipFile\u001b[0m\u001b[1;33m)\u001b[0m\u001b[1;33m:\u001b[0m\u001b[1;33m\u001b[0m\u001b[0m\n",
        "\u001b[1;31mIOError\u001b[0m: [Errno 2] No such file or directory: './dictionaries/server-oc-1-i72-p9-t3550-2014-02-27'"
       ]
      }
     ],
     "prompt_number": 7
    },
    {
     "cell_type": "code",
     "collapsed": false,
     "input": [
      " M2 = sps.hstack([G[s].dot(Phi2[s]) for s in range(scalesv)]).tocsr()"
     ],
     "language": "python",
     "metadata": {},
     "outputs": [],
     "prompt_number": 326
    },
    {
     "cell_type": "code",
     "collapsed": false,
     "input": [
      "print scipy.sparse.linalg.svds(M2, 1, which='LM', return_singular_vectors=False)"
     ],
     "language": "python",
     "metadata": {},
     "outputs": [
      {
       "output_type": "stream",
       "stream": "stdout",
       "text": [
        "[ 6.84231119]\n"
       ]
      }
     ],
     "prompt_number": 327
    },
    {
     "cell_type": "code",
     "collapsed": false,
     "input": [
      "Phi3 = np.load('./dictionaries/-oc-1-i72-p9-t0-2014-04-14')"
     ],
     "language": "python",
     "metadata": {},
     "outputs": [],
     "prompt_number": 329
    },
    {
     "cell_type": "code",
     "collapsed": false,
     "input": [
      " M3 = sps.hstack([G[s].dot(Phi3[s]) for s in range(scalesv)]).tocsr()"
     ],
     "language": "python",
     "metadata": {},
     "outputs": [],
     "prompt_number": 330
    },
    {
     "cell_type": "code",
     "collapsed": false,
     "input": [
      "print scipy.sparse.linalg.svds(M3, 1, which='LM', return_singular_vectors=False)"
     ],
     "language": "python",
     "metadata": {},
     "outputs": [
      {
       "output_type": "stream",
       "stream": "stdout",
       "text": [
        "[ 2.8648405]\n"
       ]
      }
     ],
     "prompt_number": 331
    },
    {
     "cell_type": "code",
     "collapsed": false,
     "input": [
      "print lambdav"
     ],
     "language": "python",
     "metadata": {},
     "outputs": [
      {
       "output_type": "stream",
       "stream": "stdout",
       "text": [
        "0.0075\n"
       ]
      }
     ],
     "prompt_number": 34
    },
    {
     "cell_type": "code",
     "collapsed": false,
     "input": [
      "M = sps.hstack([G[s].dot(Phi[s]) for s in range(scalesv)]).tocsr()\n",
      "M = M.todense()\n"
     ],
     "language": "python",
     "metadata": {},
     "outputs": [],
     "prompt_number": 8
    },
    {
     "cell_type": "code",
     "collapsed": false,
     "input": [
      "print M.shape\n",
      "print G[0].shape\n",
      "print G[1].shape\n",
      "\n",
      "width, height = figaspect(0.2)\n",
      "fig, ax = subplots(1, num_images, figsize=(width,height))\n",
      "\n",
      "width, height = figaspect(0.2)\n",
      "fig, ax2 = subplots(1, num_images, figsize=(width,height))\n",
      "\n",
      "first = [135, 137, 23, 150]\n",
      "for i in range(4):\n",
      "    ax[i].imshow(M[:,first[i]].reshape(72,72), interpolation='nearest', vmax=0.05, vmin=-0.05)\n",
      "    ax[i].axis('off')\n",
      "    ax2[i].imshow(Phi[0][:,first[i]].todense().reshape(24,24), interpolation='nearest', vmax=0.25, vmin=-0.25)\n",
      "    ax2[i].axis('off')\n",
      "    \n",
      "width, height = figaspect(0.2)\n",
      "fig, ax = subplots(1, num_images, figsize=(width,height))\n",
      "width, height = figaspect(0.2)\n",
      "fig, ax2 = subplots(1, num_images, figsize=(width,height))\n",
      "\n",
      "second = [556, 652, 725, 1050]\n",
      "for i in range(4):\n",
      "    ax[i].imshow(M[:,second[i]].reshape(72,72), interpolation='nearest')\n",
      "    ax[i].axis('off')\n",
      "    \n",
      "    ax2[i].imshow(Phi[1][:,second[i]-Phi[0].shape[1]].todense().reshape(40,40), interpolation='nearest', )\n",
      "    ax2[i].axis('off')\n",
      "    \n",
      "width, height = figaspect(0.2)\n",
      "fig, ax = subplots(1, num_images, figsize=(width,height))\n",
      "third = [2850, 2550, 3600, 3620]\n",
      "for i in range(4):\n",
      "    ax[i].imshow(M[:,third[i]].reshape(72,72), interpolation='nearest')\n",
      "    ax[i].axis('off')\n"
     ],
     "language": "python",
     "metadata": {},
     "outputs": [
      {
       "output_type": "stream",
       "stream": "stdout",
       "text": [
        "(5184, 5376)\n",
        "(5184, 576)\n",
        "(5184, 1600)\n"
       ]
      },
      {
       "metadata": {},
       "output_type": "display_data",
       "png": "[encoded data removed]",
       "text": [
        "<matplotlib.figure.Figure at 0x546fb50>"
       ]
      },
      {
       "metadata": {},
       "output_type": "display_data",
       "png": "[encoded data removed]",
       "text": [
        "<matplotlib.figure.Figure at 0x80fae50>"
       ]
      },
      {
       "metadata": {},
       "output_type": "display_data",
       "png": "[encoded data removed]",
       "text": [
        "<matplotlib.figure.Figure at 0x7a2fb90>"
       ]
      },
      {
       "metadata": {},
       "output_type": "display_data",
       "png": "[encoded data removed]",
       "text": [
        "<matplotlib.figure.Figure at 0x518f490>"
       ]
      },
      {
       "metadata": {},
       "output_type": "display_data",
       "png": "[encoded data removed]",
       "text": [
        "<matplotlib.figure.Figure at 0x55b7b50>"
       ]
      }
     ],
     "prompt_number": 48
    },
    {
     "cell_type": "code",
     "collapsed": false,
     "input": [],
     "language": "python",
     "metadata": {},
     "outputs": []
    }
   ],
   "metadata": {}
  }
 ]
}